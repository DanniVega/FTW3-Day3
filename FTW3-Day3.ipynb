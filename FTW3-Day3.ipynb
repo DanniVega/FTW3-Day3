{
 "cells": [
  {
   "cell_type": "code",
   "execution_count": 1,
   "metadata": {},
   "outputs": [
    {
     "data": {
      "text/plain": [
       "'Palidrome'"
      ]
     },
     "execution_count": 1,
     "metadata": {},
     "output_type": "execute_result"
    }
   ],
   "source": [
    "#Palindrome\n",
    "\n",
    "def Palind(a):\n",
    "    a = str(a)\n",
    "    if a == a[::-1]:\n",
    "        y=\"Palidrome\"\n",
    "    else:\n",
    "        y=\"NOT Palindrome\"\n",
    "    return y\n",
    "\n",
    "Palind('popopop')"
   ]
  },
  {
   "cell_type": "code",
   "execution_count": 2,
   "metadata": {},
   "outputs": [
    {
     "data": {
      "text/plain": [
       "'NOT Prime'"
      ]
     },
     "execution_count": 2,
     "metadata": {},
     "output_type": "execute_result"
    }
   ],
   "source": [
    "#Prime Number\n",
    "\n",
    "def Prime(x):\n",
    "    for i in range(2,x):\n",
    "        if x%i == 0:\n",
    "            p=\"NOT Prime\"\n",
    "            break\n",
    "        else:\n",
    "            p=\"Prime\"\n",
    "    return p\n",
    "\n",
    "Prime(6)"
   ]
  },
  {
   "cell_type": "code",
   "execution_count": 3,
   "metadata": {},
   "outputs": [
    {
     "name": "stdout",
     "output_type": "stream",
     "text": [
      "6857.0\n"
     ]
    }
   ],
   "source": [
    "def LargestPrimeFactor(n):\n",
    "    primeFactor = 1\n",
    "    i = 2\n",
    "    while i <= n/i:\n",
    "        if n%i == 0:\n",
    "            primeFactor = i\n",
    "            n = n/i\n",
    "        else:\n",
    "            i = i+1\n",
    "    if primeFactor < n:\n",
    "        primeFactor = n\n",
    "\n",
    "    return primeFactor\n",
    "\n",
    "print(LargestPrimeFactor(600851475143))"
   ]
  },
  {
   "cell_type": "code",
   "execution_count": 4,
   "metadata": {},
   "outputs": [
    {
     "name": "stdout",
     "output_type": "stream",
     "text": [
      "906609\n"
     ]
    }
   ],
   "source": [
    "def Palind(a):                  \n",
    "    a = str(a)\n",
    "    if a == a[::-1]:\n",
    "        y=True\n",
    "    else:\n",
    "        y=False\n",
    "    return y\n",
    "\n",
    "def findLargestPalindrome():\n",
    "    palindrome = -1\n",
    "    \n",
    "    for i in range (999, 99, -1):\n",
    "        for j in range (i, 99, -1):\n",
    "            \n",
    "            # if product is palindrome and is greater than last recorded palindrome\n",
    "            if Palind(i * j) and i * j > palindrome:\n",
    "                palindrome = i * j\n",
    "    return palindrome;\n",
    "\n",
    "print (findLargestPalindrome())"
   ]
  },
  {
   "cell_type": "code",
   "execution_count": null,
   "metadata": {},
   "outputs": [],
   "source": []
  }
 ],
 "metadata": {
  "kernelspec": {
   "display_name": "Python 3",
   "language": "python",
   "name": "python3"
  },
  "language_info": {
   "codemirror_mode": {
    "name": "ipython",
    "version": 3
   },
   "file_extension": ".py",
   "mimetype": "text/x-python",
   "name": "python",
   "nbconvert_exporter": "python",
   "pygments_lexer": "ipython3",
   "version": "3.7.4"
  }
 },
 "nbformat": 4,
 "nbformat_minor": 2
}
